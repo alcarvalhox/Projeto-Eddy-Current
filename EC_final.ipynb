{
  "nbformat": 4,
  "nbformat_minor": 0,
  "metadata": {
    "colab": {
      "name": "EC_final.ipynb",
      "provenance": [],
      "collapsed_sections": [],
      "mount_file_id": "1tVlyRsFRWD7niPz8M7qc-DAyp07HO2Fc",
      "authorship_tag": "ABX9TyNvNK/WOlTl8alKAOgz4R2J",
      "include_colab_link": true
    },
    "kernelspec": {
      "name": "python3",
      "display_name": "Python 3"
    }
  },
  "cells": [
    {
      "cell_type": "markdown",
      "metadata": {
        "id": "view-in-github",
        "colab_type": "text"
      },
      "source": [
        "<a href=\"https://colab.research.google.com/github/alcarvalhox/Projeto-Eddy-Current/blob/master/EC_final.ipynb\" target=\"_parent\"><img src=\"https://colab.research.google.com/assets/colab-badge.svg\" alt=\"Open In Colab\"/></a>"
      ]
    },
    {
      "cell_type": "code",
      "metadata": {
        "id": "8icMwMjpwUE1",
        "colab_type": "code",
        "colab": {
          "base_uri": "https://localhost:8080/",
          "height": 122
        },
        "outputId": "06f06c90-c3f8-45cc-a3a3-53fdf02a38a2"
      },
      "source": [
        "import datetime\n",
        "import math\n",
        "import os\n",
        "import sys\n",
        "import pandas as pd\n",
        "import matplotlib.pyplot as plt\n",
        "import numpy as np\n",
        "import scipy.io\n",
        "from scipy import signal\n",
        "from scipy.signal import medfilt\n",
        "import seaborn as sns\n",
        "import pywt\n",
        "import csv\n",
        "\n",
        "#################################################\n",
        "from google.colab import drive\n",
        "drive.mount(\"/content/drive/\")\n",
        "\n",
        "#################################################\n",
        "try:\n",
        "  path = '/content/drive/My Drive/Projeto Eddy Current/ProjetoFinal'\n",
        "  os.chdir(path)\n",
        "except:\n",
        "  print(\"Erro ao carregar diretorio no drive. Usado para drive compartilhado\")\n",
        "\n",
        "#################################################\n",
        "print(\"Sistema preparado para rodar!\")\n",
        "print(datetime.datetime.now().strftime(\"%d-%m-%Y %H:%M:%S\"))"
      ],
      "execution_count": 1,
      "outputs": [
        {
          "output_type": "stream",
          "text": [
            "Drive already mounted at /content/drive/; to attempt to forcibly remount, call drive.mount(\"/content/drive/\", force_remount=True).\n",
            "Sistema preparado para rodar!\n",
            "19-08-2020 17:40:27\n"
          ],
          "name": "stdout"
        },
        {
          "output_type": "stream",
          "text": [
            "/usr/local/lib/python3.6/dist-packages/statsmodels/tools/_testing.py:19: FutureWarning: pandas.util.testing is deprecated. Use the functions in the public API at pandas.testing instead.\n",
            "  import pandas.util.testing as tm\n"
          ],
          "name": "stderr"
        }
      ]
    },
    {
      "cell_type": "markdown",
      "metadata": {
        "id": "wSLabD5NzhC_",
        "colab_type": "text"
      },
      "source": [
        "# **Bloco de Classes**"
      ]
    },
    {
      "cell_type": "code",
      "metadata": {
        "id": "TFbEqlq4zbmu",
        "colab_type": "code",
        "colab": {
          "base_uri": "https://localhost:8080/",
          "height": 51
        },
        "outputId": "c396759c-0616-4b11-f82d-6b49e022a19c"
      },
      "source": [
        "\n",
        "\n",
        "#######################################\n",
        "#### Leitura e Abertura de Arquivo ####\n",
        "#######################################\n",
        "\n",
        "class carrega_arquivo:\n",
        "  def __init__(self):\n",
        "    pass \n",
        "\n",
        "  def le_arquivo (self ,Path,File):\n",
        "    #### Lê Arquivo .txt \n",
        "    with open(Path +'/'+ File, 'r') as f:\n",
        "      # Usando a expressão regular para o separador indicando que eles são os espaços em branco\n",
        "      df = pd.read_table(f, sep='\\s+')\n",
        "      df=df.replace(np.nan,0)\n",
        "            \n",
        "\n",
        "        # lista os cabeçalhos    \n",
        "      cabecalho=df.columns\n",
        "\n",
        "        # atribui a coluna do gráfico no indíce da coluna\n",
        "      c = cabecalho[2]\n",
        "        # define o comprimento da coluna\n",
        "      a = len(df[cabecalho[2]])\n",
        "        \n",
        "        # cria vetor com quantidade de pontos\n",
        "      x = np.arange(a)\n",
        "        \n",
        "        # define quantidade de linhas (pontos) e colunas\n",
        "      linha = a\n",
        "      coluna = 1\n",
        "      \n",
        "      return df[c]\n",
        "\n",
        "\n",
        "##############################################################\n",
        "\n",
        "#######################################\n",
        "####        Filtra Sinais          ####\n",
        "#######################################\n",
        "\n",
        "\n",
        "class filtro:\n",
        "  def __init__(self):\n",
        "    pass\n",
        "\n",
        "  def tira_spikes(self,teste):\n",
        "    resultado = []\n",
        "    grad = (np.gradient(teste))\n",
        "    valores = [int(val) for val in grad]\n",
        "\n",
        "    for x in range (1,len(teste)):\n",
        "        resultado.append(teste[x])\n",
        "\n",
        "    for x in range (1,len(teste)):\n",
        "        if abs(valores[x]) > (200):\n",
        "            for x in range (x,(x+500)):\n",
        "                resultado[x]=0 # Sinal Original Filtrado \n",
        "                \n",
        "    resultado=signal.medfilt(resultado,kernel_size=11) \n",
        "    \n",
        "    return resultado\n",
        "\n",
        "######################################################################\n",
        "\n",
        "#######################################\n",
        "####     Padronização do Sinal     ####\n",
        "#######################################\n",
        "\n",
        "class padroniza_sinal:\n",
        "  def __init__(self):\n",
        "    pass\n",
        "\n",
        "  def padroniza(self,resultado) :\n",
        "    media = np.mean(resultado)\n",
        "    sinalpadrao = (resultado-media)/np.std(resultado) \n",
        "    return sinalpadrao\n",
        "\n",
        "#########################################################################\n",
        "\n",
        "#######################################\n",
        "####         Plotar Gráficos       ####\n",
        "#######################################\n",
        "\n",
        "\n",
        "class ClassePlote:\n",
        "\n",
        "  def __init__(self):\n",
        "    pass\n",
        "\n",
        "\n",
        "#########################################################\n",
        "  # Função realiza o plote de vetor x e y\n",
        "  # Parametros:\n",
        "  # - VetorX\n",
        "  # - VetorY\n",
        "  # - Xlabel\n",
        "  # - Ylabel\n",
        "  # - legend \n",
        "#########################################################\n",
        "  def ploteLinha(self, VetorX, VetorY, Xlabel, Ylabel, Legend):\n",
        "    try:\n",
        "      plt.plot(VetorX, VetorY) #, linestyle='--', color=\"k\")  \n",
        "      #plt.scatter(VetorX, VetorY, color=\"r\", marker=\"o\", label=Legend)     \n",
        "      plt.xlabel(Xlabel)\n",
        "      plt.ylabel(Ylabel)\n",
        "      plt.title(Legend)\n",
        "      plt.grid(False)\n",
        "      plt.show()\n",
        "    except:\n",
        "      print(\"Erro no metodo ploteLinha: na Linha {}\".format(sys.exc_info()[-1].tb_lineno))\n",
        "    \n",
        "    \n",
        "#########################################################\n",
        "#Função realiza o plote histograma 1D\n",
        "# Parametros: \n",
        "#########################################################\n",
        "  def plotHistograma1D(self, Dado, Nbins, BoolDensity, Xlabel, Ylabel, Legend):\n",
        "    try:\n",
        "      bins =  OperadorPlot.hist(Dado, Nbins, density=BoolDensity, label=Legend)\n",
        "      OperadorPlot.xlabel(Xlabel)\n",
        "      OperadorPlot.ylabel(Ylabel)\n",
        "      OperadorPlot.legend()       \n",
        "      OperadorPlot.grid(True)\n",
        "      OperadorPlot.show()\n",
        "    except:\n",
        "        print(\"Erro no metodo plotHistograma1D: na Linha {}\".format(sys.exc_info()[-1].tb_lineno))\n",
        "    \n",
        "    \n",
        "#########################################################\n",
        "#Função realiza o plote de vetor x e y\n",
        "# Parametros: \n",
        "#########################################################\n",
        "  def getRandomVector(self, lenght, mu, sigma): \n",
        "    try:\n",
        "        return (mu + sigma * np.random.randn(lenght))\n",
        "    except:\n",
        "        print(\"Erro no metodo getRandomVector: na Linha {}\".format(sys.exc_info()[-1].tb_lineno))\n",
        "\n",
        "\n",
        "\n",
        "\n",
        "#########################################################################\n",
        "\n",
        "#######################################\n",
        "####         Identifica Threshold   ###\n",
        "#######################################\n",
        "\n",
        "class Ident_thres:\n",
        "  def __init__(self):\n",
        "    pass\n",
        "\n",
        "  def threshold_sinal(self,opcao,amostras,sinalvet,limite):\n",
        "    #%%%% a é o número de pontos do sinal\n",
        "    #%%%% Delay são os número de pontos que irão retroagir\n",
        "    #%%%% Amostras é o tamaho da janela dos sinais identificados\n",
        "    #%%%% Limite é valor do threshlod para filtrar ruídos iniciais\n",
        "\n",
        "    if opcao == 1:\n",
        "        a1=delay + 30000 # + 3000 - RODO \n",
        "    else:\n",
        "        a1=delay + 10000\n",
        "        \n",
        "    t=1  \n",
        "    cont1=1\n",
        "    janela=[]\n",
        "\n",
        "\n",
        "    while (a1<(a-amostras)):\n",
        "        if (abs(sinalvet[a1]) >= limite):\n",
        "\n",
        "            #%%%% define a próxima janela a ser analisada\n",
        "            janela.append(a1)\n",
        "            a1=a1+amostras\n",
        "\n",
        "        if (abs(sinalvet[a1]) < limite):\n",
        "\n",
        "            #%%% desconsidera pontos abaixo do threshold e analisa o próximo ponto   \n",
        "            a1=a1+1 \n",
        "\n",
        "    return janela          \n",
        "\n",
        "\n",
        "\n",
        "\n",
        "\n",
        "\n",
        "\n",
        "print(\"Classe carregada!\")\n",
        "print(datetime.datetime.now().strftime(\"%d-%m-%Y %H:%M:%S\"))"
      ],
      "execution_count": 53,
      "outputs": [
        {
          "output_type": "stream",
          "text": [
            "Classe carregada!\n",
            "19-08-2020 20:01:41\n"
          ],
          "name": "stdout"
        }
      ]
    },
    {
      "cell_type": "markdown",
      "metadata": {
        "id": "ipgsjs7R3V5N",
        "colab_type": "text"
      },
      "source": [
        "# **Algoritmo Principal**"
      ]
    },
    {
      "cell_type": "code",
      "metadata": {
        "id": "OHePUz0JBWi1",
        "colab_type": "code",
        "colab": {}
      },
      "source": [
        ""
      ],
      "execution_count": 32,
      "outputs": []
    },
    {
      "cell_type": "code",
      "metadata": {
        "id": "YeLsaHlM3TRN",
        "colab_type": "code",
        "colab": {
          "base_uri": "https://localhost:8080/",
          "height": 888
        },
        "outputId": "d8df336e-791b-4494-f499-22970008d1f4"
      },
      "source": [
        "Path = \"/content/drive/My Drive/Projeto Eddy Current/Sinais_Coletados/Banco de Dados/Medidas_SVTS/JI\"\n",
        "File = \"jti2_0.txt\"\n",
        "\n",
        "\n",
        "#########################\n",
        "# Definição de Variáveis#\n",
        "#########################\n",
        "wavelet = 0 # Se = 1 realiza a transformada wavelet\n",
        "opcao=2  #1=sinal rodo  2=sinal manual\n",
        "mediasup = 4.15 #0.55\n",
        "mediainf = -6.15 #-0.35\n",
        "zerocross = 2\n",
        "tipo_de_grafico = 'flag'\n",
        "escalas = 512\n",
        "familia=['haar', 'db', 'sym', 'coif', 'bior', 'rbio', 'dmey', 'gaus', 'mexh', 'morl', 'cgau8', 'shan', 'fbsp', 'cmor']\n",
        "familia2=['cgau1','cgau2','cgau3','cgau4','cgau5','cgau6','cgau7','cgau8','cmor','fbsp','gaus1','gaus2','gaus3','gaus4','gaus5','gaus6','gaus7','gaus8','mexh','morl','shan']\n",
        "nome_da_wavelet = familia2[8]\n",
        "#gradiente =  29 # 1.45 #3 sd  #9 manual #1.45 rodo\n",
        "path ='C:/Projeto Eddy Current/Supervisionado/Sinais/teste/imagem'\n",
        "\n",
        "######################\n",
        "# Opções de aquisição#\n",
        "######################\n",
        "\n",
        "if opcao == 1: # RODO \n",
        "\n",
        "    limite = 1 #4 #threshold superior\n",
        "    limite2 = -200 #threshold inferior\n",
        "    delay=800 #% RODO\n",
        "    amostras=1499 # RODO\n",
        "    const=20 # RODO\n",
        "    gradiente = 1\n",
        "    \n",
        "\n",
        "if opcao == 2:# MANUAL \n",
        "   \n",
        "    limite = 0.2 #1.8 #4 #0.7 (Junta) #threshold superior #0.7\n",
        "    limite2 = -200 #threshold inferior\n",
        "    delay=3500 #500 #250(Junta)Rodo # manual 40\n",
        "    amostras=9999#7999 #2499 #799(Junta) #Rodo # manual 399\n",
        "    const=20 #Rodo\n",
        "    gradiente = 1\n",
        "\n",
        "#######################################################################\n",
        "\n",
        "### Cria Operador Arquivo\n",
        "OperadorArquivos = carrega_arquivo()\n",
        "### Recebe o arquivo lido\n",
        "sinal=OperadorArquivos.le_arquivo(Path,File)\n",
        "\n",
        "x1=list(range(1,(len(sinal)+1)))\n",
        "\n",
        "### Cria Operador Filtro\n",
        "OperadorFiltro=filtro()\n",
        "### Recebe o arquivo sem spikes\n",
        "resultado=OperadorFiltro.tira_spikes(sinal)\n",
        "\n",
        "### Cria Operador Padroniza Sinal\n",
        "OperadorPadroniza = padroniza_sinal()\n",
        "### Recebe o arquivo do sinal padronizado\n",
        "sinalpadrao=OperadorPadroniza.padroniza(resultado) \n",
        "\n",
        "x2=list(range(1,(len(sinalpadrao)+1)))\n",
        "\n",
        "### Cria Operador Plota Sinal\n",
        "OperadorPlota = ClassePlote()\n",
        "### Plota gráfico\n",
        "OperadorPlota.ploteLinha(x1,sinal,'Amostras','Valor','Sinal Original ')\n",
        "OperadorPlota.ploteLinha(x2,resultado,'Amostras','Valor','Sinal Original sem spikes')\n",
        "OperadorPlota.ploteLinha(x2,sinalpadrao,'Amostras','Valor','Sinal Padronizado')\n",
        "\n",
        "\n",
        "### Cria Operador Threshold\n",
        "OperadorThreshold = Ident_thres()\n",
        "janela=OperadorThreshold.threshold_sinal(opcao,amostras,sinalpadrao,limite)\n",
        "\n",
        "print(janela)\n",
        "\n",
        "a=len(sinalpadrao)\n",
        "sinalvet=sinalpadrao\n",
        "\n",
        "\n",
        "\n",
        "\n",
        "\n",
        "\n",
        "\n"
      ],
      "execution_count": 57,
      "outputs": [
        {
          "output_type": "display_data",
          "data": {
            "image/png": "[encoded data removed]",
            "text/plain": [
              "<Figure size 432x288 with 1 Axes>"
            ]
          },
          "metadata": {
            "tags": [],
            "needs_background": "light"
          }
        },
        {
          "output_type": "display_data",
          "data": {
            "image/png": "[encoded data removed]",
            "text/plain": [
              "<Figure size 432x288 with 1 Axes>"
            ]
          },
          "metadata": {
            "tags": [],
            "needs_background": "light"
          }
        },
        {
          "output_type": "display_data",
          "data": {
            "image/png": "[encoded data removed]",
            "text/plain": [
              "<Figure size 432x288 with 1 Axes>"
            ]
          },
          "metadata": {
            "tags": [],
            "needs_background": "light"
          }
        },
        {
          "output_type": "stream",
          "text": [
            "[13500, 23499, 33498, 43497, 53496, 67570, 77569, 87568, 99073, 109072, 119071, 129070, 139069, 149068, 159067, 173614, 191530, 201529, 211528, 227706, 237705, 247704, 263280, 273279, 283278, 299444, 309443, 319442]\n"
          ],
          "name": "stdout"
        }
      ]
    }
  ]
}